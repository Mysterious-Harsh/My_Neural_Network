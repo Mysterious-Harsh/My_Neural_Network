{
 "cells": [
  {
   "cell_type": "code",
   "execution_count": 1,
   "id": "7148c80d-d3a4-49bc-a720-c101861beefa",
   "metadata": {
    "execution": {
     "iopub.execute_input": "2023-05-23T17:54:52.174495Z",
     "iopub.status.busy": "2023-05-23T17:54:52.173661Z",
     "iopub.status.idle": "2023-05-23T17:54:52.598942Z",
     "shell.execute_reply": "2023-05-23T17:54:52.598599Z",
     "shell.execute_reply.started": "2023-05-23T17:54:52.174434Z"
    },
    "tags": []
   },
   "outputs": [],
   "source": [
    "import matplotlib.pyplot as plt\n",
    "import nnfs\n",
    "import numpy as np\n",
    "from nnfs.datasets import spiral_data"
   ]
  },
  {
   "cell_type": "code",
   "execution_count": 2,
   "id": "a5a383f4-8a30-4579-bd2c-ba8976ce3602",
   "metadata": {
    "execution": {
     "iopub.execute_input": "2023-05-23T17:54:52.600208Z",
     "iopub.status.busy": "2023-05-23T17:54:52.599967Z",
     "iopub.status.idle": "2023-05-23T17:54:52.602718Z",
     "shell.execute_reply": "2023-05-23T17:54:52.602222Z",
     "shell.execute_reply.started": "2023-05-23T17:54:52.600190Z"
    },
    "tags": []
   },
   "outputs": [],
   "source": [
    "nnfs.init()\n",
    "plt.style.use('seaborn-v0_8-bright')"
   ]
  },
  {
   "cell_type": "code",
   "execution_count": 89,
   "id": "c569bea9-b397-4fe9-94d3-a88c846fa917",
   "metadata": {
    "execution": {
     "iopub.execute_input": "2023-05-23T18:45:25.849147Z",
     "iopub.status.busy": "2023-05-23T18:45:25.848758Z",
     "iopub.status.idle": "2023-05-23T18:45:25.869440Z",
     "shell.execute_reply": "2023-05-23T18:45:25.868971Z",
     "shell.execute_reply.started": "2023-05-23T18:45:25.849122Z"
    },
    "tags": []
   },
   "outputs": [],
   "source": [
    "class Model:\n",
    "\n",
    "    def __init__(self, epochs):\n",
    "        self.dense_layers = []\n",
    "        self.epochs = epochs\n",
    "        self.optimizer = None\n",
    "        self.flag = False\n",
    "        self.X = None\n",
    "        self.y = None\n",
    "\n",
    "    def add_dense(self, n_inputs, n_neurons, activation):\n",
    "        dense = Dense(n_inputs, n_neurons, activation)\n",
    "        self.dense_layers.append(dense)\n",
    "\n",
    "    def add_loss(self, loss_function):\n",
    "\n",
    "        # if loss_function == Categorical_Cross_Entropy and self.dense_layers[\n",
    "        #         -1].activation.__class__.__name__ == \"Softmax\":\n",
    "        #     self.dense_layers[\n",
    "        #         -1].activation = Softmax_Categorical_Cross_Entropy_Loss()\n",
    "        #     self.flag = True\n",
    "        #     print(self.dense_layers)\n",
    "        self.loss_function = loss_function()\n",
    "\n",
    "    def add_optimizer(self, optimizer, **params):\n",
    "        self.optimizer = optimizer(**params)\n",
    "\n",
    "    def fit(self, X, y):\n",
    "        self.X = X\n",
    "        self.y = y\n",
    "        for epoch in range(self.epochs):\n",
    "\n",
    "            layer_output = self.X\n",
    "            for layer in self.dense_layers:\n",
    "                layer_output = layer.forward(layer_output)\n",
    "\n",
    "            loss = self.loss_function.calculate(layer_output, self.y)\n",
    "            predictions = np.argmax(layer_output, axis=1)\n",
    "            if len(self.y.shape) == 2:\n",
    "                self.y = np.argmax(self.y, axis=1)\n",
    "            accuracy = np.mean(predictions == self.y)\n",
    "            if not epoch % 100:\n",
    "                print(\n",
    "                    f\"Epochs: {epoch}, Acc: {accuracy}, Loss: {loss}, Lr: {self.optimizer.current_learning_rate}\"\n",
    "                )\n",
    "            reversed_dense_layer = self.dense_layers.copy()\n",
    "            reversed_dense_layer.reverse()\n",
    "            if self.flag:\n",
    "                dvalues = reversed_dense_layer[0].backward(layer_output, self.y)\n",
    "                n = 1\n",
    "            else:\n",
    "                dvalues = self.loss_function.backward(layer_output, self.y)\n",
    "                n = 0\n",
    "\n",
    "            for layer in reversed_dense_layer[n:]:\n",
    "                dvalues = layer.backward(dvalues)\n",
    "            self.optimizer.pre_update_params()\n",
    "            for layer in self.dense_layers:\n",
    "\n",
    "                self.optimizer.update_params(layer)\n",
    "            self.optimizer.post_update_params()\n",
    "\n",
    "    def show_boundary(self):\n",
    "        h = 0.02\n",
    "        x_min, x_max = X[:, 0].min() - 1, X[:, 0].max() + 1\n",
    "        y_min, y_max = X[:, 1].min() - 1, X[:, 1].max() + 1\n",
    "        xx, yy = np.meshgrid(np.arange(x_min, x_max, h),\n",
    "                             np.arange(y_min, y_max, h))\n",
    "\n",
    "        layer_output = np.c_[xx.ravel(), yy.ravel()]\n",
    "        for layer in self.dense_layers:\n",
    "            layer_output = layer.forward(layer_output)\n",
    "\n",
    "        Z = np.argmax(layer_output, axis=1)\n",
    "\n",
    "        print(Z)\n",
    "        x_min, x_max = X[:, 0].min() - 1, X[:, 0].max() + 1\n",
    "        y_min, y_max = X[:, 1].min() - 1, X[:, 1].max() + 1\n",
    "        xx, yy = np.meshgrid(np.arange(x_min, x_max, 0.1),\n",
    "                             np.arange(y_min, y_max, 0.1))\n",
    "        layer_output = np.c_[xx.ravel(), yy.ravel()]\n",
    "        for layer in self.dense_layers:\n",
    "            layer_output = layer.forward(layer_output)\n",
    "        Z = np.argmax(layer_output, axis=1).reshape(xx.shape)\n",
    "\n",
    "        print(Z.shape)\n",
    "        plt.contourf(xx, yy, Z, alpha=0.2)\n",
    "        plt.scatter(X[:, 0], X[:, 1], c=y, alpha=1)"
   ]
  },
  {
   "cell_type": "code",
   "execution_count": 99,
   "id": "3c037fe5-00d1-4064-b7ef-fbfc2cd63fb7",
   "metadata": {
    "execution": {
     "iopub.execute_input": "2023-05-23T18:53:04.587461Z",
     "iopub.status.busy": "2023-05-23T18:53:04.586794Z",
     "iopub.status.idle": "2023-05-23T18:53:04.601530Z",
     "shell.execute_reply": "2023-05-23T18:53:04.600394Z",
     "shell.execute_reply.started": "2023-05-23T18:53:04.587412Z"
    },
    "tags": []
   },
   "outputs": [],
   "source": [
    "class Dense:\n",
    "\n",
    "    def __init__(self, n_inputs, n_neurons, activation):\n",
    "        self.weights = 0.01 * np.random.randn(n_inputs, n_neurons)\n",
    "        self.biases = np.zeros((1, n_neurons))\n",
    "        self.activation = activation()\n",
    "\n",
    "    def forward(self, inputs, *args):\n",
    "        self.inputs = inputs\n",
    "        self.output = self.activation.forward(\n",
    "            np.dot(self.inputs, self.weights) + self.biases, *args)\n",
    "        return self.output\n",
    "\n",
    "    # dvalues is derivative we got from previous neurons\n",
    "    def backward(self, dvalues, *args):\n",
    "        dvalues = self.activation.backward(dvalues, *args)\n",
    "        self.dweights = np.dot(self.inputs.T, dvalues)\n",
    "        self.dbiases = np.sum(dvalues, axis=0, keepdims=True)\n",
    "        self.dinputs = np.dot(dvalues, self.weights.T)\n",
    "        return self.dinputs"
   ]
  },
  {
   "cell_type": "code",
   "execution_count": 118,
   "id": "4af9752b-e6d9-4998-b051-763c84d8e3c0",
   "metadata": {
    "execution": {
     "iopub.execute_input": "2023-05-23T20:09:28.233488Z",
     "iopub.status.busy": "2023-05-23T20:09:28.232823Z",
     "iopub.status.idle": "2023-05-23T20:09:28.250455Z",
     "shell.execute_reply": "2023-05-23T20:09:28.249746Z",
     "shell.execute_reply.started": "2023-05-23T20:09:28.233438Z"
    },
    "tags": []
   },
   "outputs": [],
   "source": [
    "class ReLU:\n",
    "\n",
    "    def forward(self, inputs, *args):\n",
    "        self.inputs = inputs\n",
    "        self.output = np.maximum(0, inputs)\n",
    "        return self.output\n",
    "\n",
    "    def backward(self, dvalues, *args):\n",
    "        self.dinputs = dvalues.copy()\n",
    "        self.dinputs[self.inputs <= 0] = 0\n",
    "        return self.dinputs\n",
    "\n",
    "\n",
    "class Softmax:\n",
    "\n",
    "    def forward(self, inputs, *args):\n",
    "        self.inputs = inputs\n",
    "        exp_values = np.exp(inputs - np.max(inputs, axis=1, keepdims=True))\n",
    "        # if not exp_values.all():\n",
    "        #     print(exp_values)\n",
    "        #     input()\n",
    "        self.output = exp_values / np.sum(exp_values, axis=1, keepdims=True)\n",
    "\n",
    "        return self.output\n",
    "\n",
    "    def backward(self, dvalues, *args):\n",
    "        self.dinputs = np.empty_like(dvalues)\n",
    "        for index, (single_output,\n",
    "                    single_dvalues) in enumerate(zip(self.output, dvalues)):\n",
    "            single_output = single_output.reshape(1, -1)\n",
    "            jacobian_matrix = np.diagflat(single_output) - np.dot(\n",
    "                single_output.T, single_output)\n",
    "\n",
    "            self.dinputs[index] = np.dot(jacobian_matrix, single_dvalues)\n",
    "\n",
    "        return self.dinputs"
   ]
  },
  {
   "cell_type": "code",
   "execution_count": 117,
   "id": "29f40030-f316-4a0a-a8ef-6beaff1bfaaf",
   "metadata": {
    "execution": {
     "iopub.execute_input": "2023-05-23T20:09:23.359345Z",
     "iopub.status.busy": "2023-05-23T20:09:23.358946Z",
     "iopub.status.idle": "2023-05-23T20:09:23.377409Z",
     "shell.execute_reply": "2023-05-23T20:09:23.375895Z",
     "shell.execute_reply.started": "2023-05-23T20:09:23.359319Z"
    },
    "tags": []
   },
   "outputs": [],
   "source": [
    "class Loss:\n",
    "\n",
    "    def calculate(self, y_pred, y_actual, *args):\n",
    "        sample_losses = self.forward(y_pred, y_actual)\n",
    "        data_loss = np.mean(sample_losses)\n",
    "        return data_loss\n",
    "\n",
    "\n",
    "class Categorical_Cross_Entropy(Loss):\n",
    "\n",
    "    def forward(self, y_pred, y_actual, *args):\n",
    "        samples = len(y_pred)\n",
    "        y_pred_clipped = np.clip(y_pred, 1e-7, 1 - 1e-7)\n",
    "        correct_confidences = []\n",
    "        if len(y_actual.shape) == 1:\n",
    "            correct_confidences = y_pred_clipped[range(samples), y_actual]\n",
    "        elif len(y_actual.shape) == 2:\n",
    "            correct_confidences = np.sum(y_pred_clipped * y_actual, axis=1)\n",
    "        negative_log = -np.log(correct_confidences)\n",
    "        return negative_log\n",
    "\n",
    "    def backward(self, dvalues, y_true, *args):\n",
    "\n",
    "        samples = len(dvalues)\n",
    "        labels = len(dvalues[0])\n",
    "        if len(y_true.shape) == 1:\n",
    "            y_true = np.eye(labels)[y_true]\n",
    "        # dvalues = np.clip(dvalues, 1e-7, 1 - 1e-7)\n",
    "        # if not dvalues.all():\n",
    "        #     print(dvalues)\n",
    "        #     input()\n",
    "        # print(np.where(dvalues == 0))\n",
    "        self.dinputs = -y_true / dvalues\n",
    "\n",
    "        self.dinputs = self.dinputs / samples\n",
    "        return self.dinputs\n",
    "\n",
    "\n",
    "class Softmax_Categorical_Cross_Entropy_Loss:\n",
    "\n",
    "    def __init__(self):\n",
    "        self.activation = Softmax()\n",
    "        self.loss = Categorical_Cross_Entropy()\n",
    "\n",
    "    def forward(self, inputs, *args):\n",
    "        self.activation.forward(inputs)\n",
    "        self.output = self.activation.output\n",
    "        # return self.loss.calculate(self.output, y_actual)\n",
    "        return self.output\n",
    "\n",
    "    def backward(self, dvalues, *args):\n",
    "        y_actual = args[0]\n",
    "        samples = len(dvalues)\n",
    "        if len(y_actual.shape) == 2:\n",
    "            y_actual = np.argmax(y_actual, axis=1)\n",
    "\n",
    "        self.dinputs = dvalues.copy()\n",
    "        self.dinputs[range(samples), y_actual] -= 1\n",
    "        self.dinputs = self.dinputs / samples\n",
    "        return self.dinputs"
   ]
  },
  {
   "cell_type": "code",
   "execution_count": 76,
   "id": "13061466-3939-4c76-b956-1bac6633d41c",
   "metadata": {
    "execution": {
     "iopub.execute_input": "2023-05-23T18:34:25.165166Z",
     "iopub.status.busy": "2023-05-23T18:34:25.164507Z",
     "iopub.status.idle": "2023-05-23T18:34:25.196915Z",
     "shell.execute_reply": "2023-05-23T18:34:25.196311Z",
     "shell.execute_reply.started": "2023-05-23T18:34:25.165116Z"
    },
    "scrolled": true,
    "tags": []
   },
   "outputs": [],
   "source": [
    "class SGD:\n",
    "\n",
    "    def __init__(self, learning_rate=1, decay=0.0, momentum=0.0):\n",
    "        self.learning_rate = learning_rate\n",
    "        self.current_learning_rate = learning_rate\n",
    "        self.decay = decay\n",
    "        self.momentum = momentum\n",
    "        self.iterations = 0\n",
    "\n",
    "    def pre_update_params(self):\n",
    "        if self.decay:\n",
    "            self.current_learning_rate = self.learning_rate * (\n",
    "                1.0 / (1.0 + self.decay * self.iterations))\n",
    "\n",
    "    def update_params(self, layer):\n",
    "        if self.momentum:\n",
    "            if not hasattr(layer, \"weight_momentums\"):\n",
    "                layer.weight_momentums = np.zeros_like(layer.weights)\n",
    "                layer.bias_momentums = np.zeros_like(layer.biases)\n",
    "            weight_update = (self.momentum * layer.weight_momentums -\n",
    "                             self.current_learning_rate * layer.dweights)\n",
    "            layer.weight_momentums = weight_update\n",
    "\n",
    "            bias_update = (self.momentum * layer.bias_momentums -\n",
    "                           self.current_learning_rate * layer.dbiases)\n",
    "            layer.bias_momentums = bias_update\n",
    "        else:\n",
    "            weight_update = -self.current_learning_rate * layer.dweights\n",
    "            bias_update = -self.current_learning_rate * layer.dbiases\n",
    "\n",
    "        layer.weights += weight_update\n",
    "        layer.biases += bias_update\n",
    "\n",
    "    def post_update_params(self):\n",
    "        self.iterations += 1\n",
    "\n",
    "\n",
    "class AdaGrad:\n",
    "\n",
    "    def __init__(self, learning_rate=0.1, decay=0.0, epsilon=1e-7):\n",
    "        self.learning_rate = learning_rate\n",
    "        self.current_learning_rate = learning_rate\n",
    "        self.decay = decay\n",
    "        self.epsilon = epsilon\n",
    "        self.iterations = 0\n",
    "\n",
    "    def pre_update_params(self):\n",
    "        if self.decay:\n",
    "            self.current_learning_rate = self.learning_rate * (\n",
    "                1.0 / (1.0 + self.decay * self.iterations))\n",
    "\n",
    "    def update_params(self, layer):\n",
    "\n",
    "        if not hasattr(layer, \"weight_cache\"):\n",
    "            layer.weight_cache = np.zeros_like(layer.weights)\n",
    "            layer.bias_cache = np.zeros_like(layer.biases)\n",
    "        layer.weight_cache += layer.dweights**2\n",
    "\n",
    "        layer.bias_cache += layer.dbiases**2\n",
    "\n",
    "        layer.weights += ((-self.current_learning_rate * layer.dweights) /\n",
    "                          (np.sqrt(layer.weight_cache) + self.epsilon))\n",
    "        layer.biases += ((-self.current_learning_rate * layer.dbiases) /\n",
    "                         (np.sqrt(layer.bias_cache) + self.epsilon))\n",
    "        # print(self.current_learning_rate)\n",
    "        # print(self.iterations)\n",
    "\n",
    "    def post_update_params(self):\n",
    "        self.iterations += 1\n",
    "\n",
    "\n",
    "class RMSProp:\n",
    "\n",
    "    def __init__(self, learning_rate=0.01, decay=0.0, epsilon=1e-7, rho=0.9):\n",
    "        self.learning_rate = learning_rate\n",
    "        self.current_learning_rate = learning_rate\n",
    "        self.decay = decay\n",
    "        self.iterations = 1\n",
    "        self.epsilon = epsilon\n",
    "        self.rho = rho\n",
    "\n",
    "    def pre_update_params(self):\n",
    "        if self.decay:\n",
    "            self.current_learning_rate = self.learning_rate * (\n",
    "                1.0 / (1.0 + self.decay * self.iterations))\n",
    "\n",
    "    def update_params(self, layer):\n",
    "        if not hasattr(layer, \"weight_cache\"):\n",
    "            layer.weight_cache = np.zeros_like(layer.weights)\n",
    "            layer.bias_cache = np.zeros_like(layer.biases)\n",
    "        layer.weight_cache = self.rho * layer.weight_cache + (\n",
    "            1 - self.rho) * layer.dweights**2\n",
    "        layer.bias_cache = self.rho * layer.bias_cache + (\n",
    "            1 - self.rho) * layer.dbiases**2\n",
    "        layer.weights += ((-self.current_learning_rate * layer.dweights) /\n",
    "                          (np.sqrt(layer.weight_cache) + self.epsilon))\n",
    "        layer.biases += ((-self.current_learning_rate * layer.dbiases) /\n",
    "                         (np.sqrt(layer.bias_cache) + self.epsilon))\n",
    "\n",
    "    def post_update_params(self):\n",
    "        self.iterations += 1\n",
    "\n",
    "\n",
    "class Adam:\n",
    "\n",
    "    def __init__(self,\n",
    "                 learning_rate=0.001,\n",
    "                 decay=0.0,\n",
    "                 epsilon=1e-7,\n",
    "                 beta_1=0.9,\n",
    "                 beta_2=0.999):\n",
    "        self.learning_rate = learning_rate\n",
    "        self.current_learning_rate = learning_rate\n",
    "        self.decay = decay\n",
    "        self.iterations = 1\n",
    "        self.epsilon = 1e-7\n",
    "        self.beta_1 = beta_1\n",
    "        self.beta_2 = beta_2\n",
    "\n",
    "    def pre_update_params(self):\n",
    "        if self.decay:\n",
    "            self.current_learning_rate = self.learning_rate * (\n",
    "                1.0 / (1.0 + self.decay * self.iterations))\n",
    "\n",
    "    def update_params(self, layer):\n",
    "        if not hasattr(layer, 'weight_cache'):\n",
    "            layer.weight_momentums = np.zeros_like(layer.weights)\n",
    "            layer.weight_cache = np.zeros_like(layer.weights)\n",
    "            layer.bias_momentums = np.zeros_like(layer.biases)\n",
    "            layer.bias_cache = np.zeros_like(layer.biases)\n",
    "\n",
    "        layer.weight_momentums = self.beta_1 * layer.weight_momentums + (\n",
    "            1 - self.beta_1) * layer.dweights\n",
    "        layer.bias_momentums = self.beta_1 * layer.bias_momentums + (\n",
    "            1 - self.beta_1) * layer.dbiases\n",
    "\n",
    "        weight_momentums_corrected = layer.weight_momentums / (\n",
    "            1 - self.beta_1**(self.iterations))\n",
    "        bias_momentums_corrected = layer.bias_momentums / (1 - self.beta_1**\n",
    "                                                           (self.iterations))\n",
    "\n",
    "        layer.weight_cache = self.beta_2 * layer.weight_cache + (\n",
    "            1 - self.beta_2) * layer.dweights**2\n",
    "        layer.bias_cache = self.beta_2 * layer.bias_cache + (\n",
    "            1 - self.beta_2) * layer.dbiases**2\n",
    "\n",
    "        weight_cache_corrected = layer.weight_cache / (1 - self.beta_2**\n",
    "                                                       (self.iterations))\n",
    "        bias_cache_corrected = layer.bias_cache / (1 - self.beta_2**\n",
    "                                                   (self.iterations))\n",
    "\n",
    "        layer.weights += -self.current_learning_rate * weight_momentums_corrected / (\n",
    "            np.sqrt(weight_cache_corrected) + self.epsilon)\n",
    "        layer.biases += -self.current_learning_rate * bias_momentums_corrected / (\n",
    "            np.sqrt(bias_cache_corrected) + self.epsilon)\n",
    "\n",
    "    def post_update_params(self):\n",
    "        self.iterations += 1"
   ]
  },
  {
   "cell_type": "code",
   "execution_count": 77,
   "id": "2791429c-fa14-47b4-81ca-b49ee4120d58",
   "metadata": {
    "execution": {
     "iopub.execute_input": "2023-05-23T18:34:25.729195Z",
     "iopub.status.busy": "2023-05-23T18:34:25.728465Z",
     "iopub.status.idle": "2023-05-23T18:34:25.737457Z",
     "shell.execute_reply": "2023-05-23T18:34:25.736437Z",
     "shell.execute_reply.started": "2023-05-23T18:34:25.729146Z"
    },
    "tags": []
   },
   "outputs": [],
   "source": [
    "X, y = spiral_data(samples=100, classes=3)"
   ]
  },
  {
   "cell_type": "code",
   "execution_count": 78,
   "id": "4ae4315f-b425-45d7-8d9a-8cf43e6c768b",
   "metadata": {
    "execution": {
     "iopub.execute_input": "2023-05-23T18:34:26.183925Z",
     "iopub.status.busy": "2023-05-23T18:34:26.183260Z",
     "iopub.status.idle": "2023-05-23T18:34:26.288249Z",
     "shell.execute_reply": "2023-05-23T18:34:26.287817Z",
     "shell.execute_reply.started": "2023-05-23T18:34:26.183876Z"
    },
    "tags": []
   },
   "outputs": [
    {
     "data": {
      "text/plain": [
       "<matplotlib.collections.PathCollection at 0x12651dd30>"
      ]
     },
     "execution_count": 78,
     "metadata": {},
     "output_type": "execute_result"
    },
    {
     "data": {
      "image/png": "[encoded data removed]",
      "text/plain": [
       "<Figure size 640x480 with 1 Axes>"
      ]
     },
     "metadata": {},
     "output_type": "display_data"
    }
   ],
   "source": [
    "plt.scatter(X[:, 0], X[:, 1], c=y, s=10, cmap=\"brg\")"
   ]
  },
  {
   "cell_type": "code",
   "execution_count": 102,
   "id": "bf789760-3233-48a6-8e9a-d5b822922357",
   "metadata": {
    "execution": {
     "iopub.execute_input": "2023-05-23T18:53:26.084540Z",
     "iopub.status.busy": "2023-05-23T18:53:26.083877Z",
     "iopub.status.idle": "2023-05-23T18:53:29.541642Z",
     "shell.execute_reply": "2023-05-23T18:53:29.541163Z",
     "shell.execute_reply.started": "2023-05-23T18:53:26.084492Z"
    },
    "scrolled": true,
    "tags": []
   },
   "outputs": [
    {
     "name": "stdout",
     "output_type": "stream",
     "text": [
      "Epochs: 0, Acc: 0.32, Loss: 1.0986168384552002, Lr: 0.05\n",
      "Epochs: 100, Acc: 0.6366666666666667, Loss: 0.8334559798240662, Lr: 0.049997500124993745\n",
      "Epochs: 200, Acc: 0.67, Loss: 0.7257470488548279, Lr: 0.04999500049995001\n",
      "Epochs: 300, Acc: 0.72, Loss: 0.6830213665962219, Lr: 0.04999250112483127\n",
      "Epochs: 400, Acc: 0.72, Loss: 0.6890549659729004, Lr: 0.04999000199960008\n",
      "Epochs: 500, Acc: 0.7466666666666667, Loss: 0.6545703411102295, Lr: 0.04998750312421894\n",
      "Epochs: 600, Acc: 0.74, Loss: 0.6377334594726562, Lr: 0.049985004498650405\n"
     ]
    },
    {
     "name": "stderr",
     "output_type": "stream",
     "text": [
      "/var/folders/y6/4njssq5s2_764zsxh2lpvlvm0000gn/T/ipykernel_14123/3227927452.py:33: RuntimeWarning: invalid value encountered in divide\n",
      "  self.dinputs = -y_true / dvalues\n"
     ]
    },
    {
     "name": "stdout",
     "output_type": "stream",
     "text": [
      "Epochs: 700, Acc: 0.3333333333333333, Loss: nan, Lr: 0.049982506122857\n",
      "Epochs: 800, Acc: 0.3333333333333333, Loss: nan, Lr: 0.04998000799680128\n",
      "Epochs: 900, Acc: 0.3333333333333333, Loss: nan, Lr: 0.049977510120445795\n",
      "Epochs: 1000, Acc: 0.3333333333333333, Loss: nan, Lr: 0.04997501249375313\n",
      "Epochs: 1100, Acc: 0.3333333333333333, Loss: nan, Lr: 0.04997251511668582\n",
      "Epochs: 1200, Acc: 0.3333333333333333, Loss: nan, Lr: 0.04997001798920648\n",
      "Epochs: 1300, Acc: 0.3333333333333333, Loss: nan, Lr: 0.04996752111127767\n",
      "Epochs: 1400, Acc: 0.3333333333333333, Loss: nan, Lr: 0.049965024482862004\n"
     ]
    },
    {
     "ename": "KeyboardInterrupt",
     "evalue": "",
     "output_type": "error",
     "traceback": [
      "\u001b[0;31m---------------------------------------------------------------------------\u001b[0m",
      "\u001b[0;31mKeyboardInterrupt\u001b[0m                         Traceback (most recent call last)",
      "Cell \u001b[0;32mIn[116], line 6\u001b[0m\n\u001b[1;32m      4\u001b[0m model\u001b[38;5;241m.\u001b[39madd_loss(Categorical_Cross_Entropy)\n\u001b[1;32m      5\u001b[0m model\u001b[38;5;241m.\u001b[39madd_optimizer(Adam, learning_rate\u001b[38;5;241m=\u001b[39m\u001b[38;5;241m0.05\u001b[39m, decay\u001b[38;5;241m=\u001b[39m\u001b[38;5;241m5e-7\u001b[39m)\n\u001b[0;32m----> 6\u001b[0m \u001b[43mmodel\u001b[49m\u001b[38;5;241;43m.\u001b[39;49m\u001b[43mfit\u001b[49m\u001b[43m(\u001b[49m\u001b[43mX\u001b[49m\u001b[43m,\u001b[49m\u001b[43m \u001b[49m\u001b[43my\u001b[49m\u001b[43m)\u001b[49m\n",
      "Cell \u001b[0;32mIn[109], line 56\u001b[0m, in \u001b[0;36mModel.fit\u001b[0;34m(self, X, y)\u001b[0m\n\u001b[1;32m     53\u001b[0m     n \u001b[38;5;241m=\u001b[39m \u001b[38;5;241m0\u001b[39m\n\u001b[1;32m     55\u001b[0m \u001b[38;5;28;01mfor\u001b[39;00m layer \u001b[38;5;129;01min\u001b[39;00m reversed_dense_layer[n:]:\n\u001b[0;32m---> 56\u001b[0m     dvalues \u001b[38;5;241m=\u001b[39m \u001b[43mlayer\u001b[49m\u001b[38;5;241;43m.\u001b[39;49m\u001b[43mbackward\u001b[49m\u001b[43m(\u001b[49m\u001b[43mdvalues\u001b[49m\u001b[43m)\u001b[49m\n\u001b[1;32m     57\u001b[0m \u001b[38;5;28mself\u001b[39m\u001b[38;5;241m.\u001b[39moptimizer\u001b[38;5;241m.\u001b[39mpre_update_params()\n\u001b[1;32m     58\u001b[0m \u001b[38;5;28;01mfor\u001b[39;00m layer \u001b[38;5;129;01min\u001b[39;00m \u001b[38;5;28mself\u001b[39m\u001b[38;5;241m.\u001b[39mdense_layers:\n",
      "Cell \u001b[0;32mIn[99], line 16\u001b[0m, in \u001b[0;36mDense.backward\u001b[0;34m(self, dvalues, *args)\u001b[0m\n\u001b[1;32m     15\u001b[0m \u001b[38;5;28;01mdef\u001b[39;00m \u001b[38;5;21mbackward\u001b[39m(\u001b[38;5;28mself\u001b[39m, dvalues, \u001b[38;5;241m*\u001b[39margs):\n\u001b[0;32m---> 16\u001b[0m     dvalues \u001b[38;5;241m=\u001b[39m \u001b[38;5;28;43mself\u001b[39;49m\u001b[38;5;241;43m.\u001b[39;49m\u001b[43mactivation\u001b[49m\u001b[38;5;241;43m.\u001b[39;49m\u001b[43mbackward\u001b[49m\u001b[43m(\u001b[49m\u001b[43mdvalues\u001b[49m\u001b[43m,\u001b[49m\u001b[43m \u001b[49m\u001b[38;5;241;43m*\u001b[39;49m\u001b[43margs\u001b[49m\u001b[43m)\u001b[49m\n\u001b[1;32m     17\u001b[0m     \u001b[38;5;28mself\u001b[39m\u001b[38;5;241m.\u001b[39mdweights \u001b[38;5;241m=\u001b[39m np\u001b[38;5;241m.\u001b[39mdot(\u001b[38;5;28mself\u001b[39m\u001b[38;5;241m.\u001b[39minputs\u001b[38;5;241m.\u001b[39mT, dvalues)\n\u001b[1;32m     18\u001b[0m     \u001b[38;5;28mself\u001b[39m\u001b[38;5;241m.\u001b[39mdbiases \u001b[38;5;241m=\u001b[39m np\u001b[38;5;241m.\u001b[39msum(dvalues, axis\u001b[38;5;241m=\u001b[39m\u001b[38;5;241m0\u001b[39m, keepdims\u001b[38;5;241m=\u001b[39m\u001b[38;5;28;01mTrue\u001b[39;00m)\n",
      "Cell \u001b[0;32mIn[115], line 34\u001b[0m, in \u001b[0;36mSoftmax.backward\u001b[0;34m(self, dvalues, *args)\u001b[0m\n\u001b[1;32m     30\u001b[0m     single_output \u001b[38;5;241m=\u001b[39m single_output\u001b[38;5;241m.\u001b[39mreshape(\u001b[38;5;241m1\u001b[39m, \u001b[38;5;241m-\u001b[39m\u001b[38;5;241m1\u001b[39m)\n\u001b[1;32m     31\u001b[0m     jacobian_matrix \u001b[38;5;241m=\u001b[39m np\u001b[38;5;241m.\u001b[39mdiagflat(single_output) \u001b[38;5;241m-\u001b[39m np\u001b[38;5;241m.\u001b[39mdot(\n\u001b[1;32m     32\u001b[0m         single_output\u001b[38;5;241m.\u001b[39mT, single_output)\n\u001b[0;32m---> 34\u001b[0m     \u001b[38;5;28mself\u001b[39m\u001b[38;5;241m.\u001b[39mdinputs[index] \u001b[38;5;241m=\u001b[39m \u001b[43mnp\u001b[49m\u001b[38;5;241;43m.\u001b[39;49m\u001b[43mdot\u001b[49m\u001b[43m(\u001b[49m\u001b[43mjacobian_matrix\u001b[49m\u001b[43m,\u001b[49m\u001b[43m \u001b[49m\u001b[43msingle_dvalues\u001b[49m\u001b[43m)\u001b[49m\n\u001b[1;32m     36\u001b[0m \u001b[38;5;28;01mreturn\u001b[39;00m \u001b[38;5;28mself\u001b[39m\u001b[38;5;241m.\u001b[39mdinputs\n",
      "File \u001b[0;32m~/opt/miniforge3/lib/python3.9/site-packages/nnfs/core.py:22\u001b[0m, in \u001b[0;36minit.<locals>.dot\u001b[0;34m(*args, **kwargs)\u001b[0m\n\u001b[1;32m     21\u001b[0m \u001b[38;5;28;01mdef\u001b[39;00m \u001b[38;5;21mdot\u001b[39m(\u001b[38;5;241m*\u001b[39margs, \u001b[38;5;241m*\u001b[39m\u001b[38;5;241m*\u001b[39mkwargs):\n\u001b[0;32m---> 22\u001b[0m     \u001b[38;5;28;01mreturn\u001b[39;00m orig_dot(\u001b[38;5;241m*\u001b[39m[a\u001b[38;5;241m.\u001b[39mastype(\u001b[38;5;124m'\u001b[39m\u001b[38;5;124mfloat64\u001b[39m\u001b[38;5;124m'\u001b[39m) \u001b[38;5;28;01mfor\u001b[39;00m a \u001b[38;5;129;01min\u001b[39;00m args], \u001b[38;5;241m*\u001b[39m\u001b[38;5;241m*\u001b[39mkwargs)\u001b[38;5;241m.\u001b[39mastype(\u001b[38;5;124m'\u001b[39m\u001b[38;5;124mfloat32\u001b[39m\u001b[38;5;124m'\u001b[39m)\n",
      "File \u001b[0;32m~/opt/miniforge3/lib/python3.9/site-packages/nnfs/core.py:22\u001b[0m, in \u001b[0;36m<listcomp>\u001b[0;34m(.0)\u001b[0m\n\u001b[1;32m     21\u001b[0m \u001b[38;5;28;01mdef\u001b[39;00m \u001b[38;5;21mdot\u001b[39m(\u001b[38;5;241m*\u001b[39margs, \u001b[38;5;241m*\u001b[39m\u001b[38;5;241m*\u001b[39mkwargs):\n\u001b[0;32m---> 22\u001b[0m     \u001b[38;5;28;01mreturn\u001b[39;00m orig_dot(\u001b[38;5;241m*\u001b[39m[\u001b[43ma\u001b[49m\u001b[38;5;241;43m.\u001b[39;49m\u001b[43mastype\u001b[49m\u001b[43m(\u001b[49m\u001b[38;5;124;43m'\u001b[39;49m\u001b[38;5;124;43mfloat64\u001b[39;49m\u001b[38;5;124;43m'\u001b[39;49m\u001b[43m)\u001b[49m \u001b[38;5;28;01mfor\u001b[39;00m a \u001b[38;5;129;01min\u001b[39;00m args], \u001b[38;5;241m*\u001b[39m\u001b[38;5;241m*\u001b[39mkwargs)\u001b[38;5;241m.\u001b[39mastype(\u001b[38;5;124m'\u001b[39m\u001b[38;5;124mfloat32\u001b[39m\u001b[38;5;124m'\u001b[39m)\n",
      "\u001b[0;31mKeyboardInterrupt\u001b[0m: "
     ]
    }
   ],
   "source": [
    "model = Model(10001)\n",
    "model.add_dense(2, 64, ReLU)\n",
    "model.add_dense(64, 3, Softmax)\n",
    "model.add_loss(Categorical_Cross_Entropy)\n",
    "model.add_optimizer(Adam, learning_rate=0.05, decay=5e-7)\n",
    "model.fit(X, y)"
   ]
  },
  {
   "cell_type": "code",
   "execution_count": 103,
   "id": "883ba5f5-afee-44a3-91ed-2c98e41f5bc3",
   "metadata": {
    "execution": {
     "iopub.execute_input": "2023-05-23T18:53:45.529625Z",
     "iopub.status.busy": "2023-05-23T18:53:45.528962Z",
     "iopub.status.idle": "2023-05-23T18:53:45.722411Z",
     "shell.execute_reply": "2023-05-23T18:53:45.718081Z",
     "shell.execute_reply.started": "2023-05-23T18:53:45.529576Z"
    },
    "tags": []
   },
   "outputs": [
    {
     "name": "stdout",
     "output_type": "stream",
     "text": [
      "[0 0 0 ... 1 1 1]\n",
      "(40, 40)\n"
     ]
    },
    {
     "data": {
      "image/png": "[encoded data removed]",
      "text/plain": [
       "<Figure size 640x480 with 1 Axes>"
      ]
     },
     "metadata": {},
     "output_type": "display_data"
    }
   ],
   "source": [
    "model.show_boundary()"
   ]
  },
  {
   "cell_type": "code",
   "execution_count": null,
   "id": "677cc0bb-239f-4c35-a455-0d0be215327c",
   "metadata": {},
   "outputs": [],
   "source": []
  },
  {
   "cell_type": "code",
   "execution_count": null,
   "id": "33c8f184-db95-42d7-b156-6db161304009",
   "metadata": {
    "execution": {
     "iopub.status.busy": "2023-05-23T17:55:06.309849Z",
     "iopub.status.idle": "2023-05-23T17:55:06.310162Z",
     "shell.execute_reply": "2023-05-23T17:55:06.310028Z",
     "shell.execute_reply.started": "2023-05-23T17:55:06.310012Z"
    },
    "tags": []
   },
   "outputs": [],
   "source": [
    "# X = np.array([[0.7, 0.1, 0.21], [0.1, 0.5, 0.4], [0.02, 0.9, 0.08]])\n",
    "# y = np.array([0, 1, 1])\n",
    "\n",
    "# softmax_loss = Softmax_Activation_Categorical_Cross_Entropy_Loss()\n",
    "# print(X, y)\n",
    "# softmax_loss.backward(X, y)\n",
    "# dvalues1 = softmax_loss.dinputs\n",
    "\n",
    "# activation = Softmax_Activation()\n",
    "# activation.output = X\n",
    "# loss = Categorical_Cross_Entropy_Loss()\n",
    "# loss.backward(X, y)\n",
    "# print(loss.dinputs)\n",
    "# activation.backward(loss.dinputs)\n",
    "# dvalues2 = activation.dinputs\n",
    "\n",
    "# print(\"Gradients: combined loss and activation:\")\n",
    "# print(dvalues1)\n",
    "# print(\"Gradients: separate loss and activation:\")\n",
    "# print(dvalues2)"
   ]
  },
  {
   "cell_type": "code",
   "execution_count": null,
   "id": "813490bb-aaf6-4dc0-b0ba-9636da142899",
   "metadata": {
    "execution": {
     "iopub.status.busy": "2023-05-23T17:55:06.310675Z",
     "iopub.status.idle": "2023-05-23T17:55:06.310886Z",
     "shell.execute_reply": "2023-05-23T17:55:06.310765Z",
     "shell.execute_reply.started": "2023-05-23T17:55:06.310757Z"
    },
    "scrolled": true,
    "tags": []
   },
   "outputs": [],
   "source": [
    "# dense_1 = Dense(2, 64)\n",
    "# activation_1 = ReLU_Activation()\n",
    "\n",
    "# dense_2 = Dense(64, 3)\n",
    "# activation_2 = Softmax_Activation()\n",
    "\n",
    "# loss_function = Categorical_Cross_Entropy_Loss()\n",
    "\n",
    "# optimizer = SGD_Optimizer()\n",
    "# for epoch in range(1000):\n",
    "#     dense_1.forward(X)\n",
    "#     activation_1.forward(dense_1.output)\n",
    "#     dense_2.forward(activation_1.output)\n",
    "#     activation_2.forward(dense_2.output)\n",
    "#     loss = loss_function.calculate(activation_2.output, y)\n",
    "\n",
    "#     # print(\"Softmax Forward : \", activation_2.output)\n",
    "#     predictions = np.argmax(activation_2.output, axis=1)\n",
    "#     if len(y.shape) == 2:\n",
    "#         y = np.argmax(y, axis=1)\n",
    "\n",
    "#     accuracy = np.mean(predictions == y)\n",
    "#     # if not epoch % 100:\n",
    "#     print(f\"Epochs: {epoch}, Acc: {accuracy}, Loss: {loss}\")\n",
    "\n",
    "#     loss_function.backward(activation_2.output, y)\n",
    "#     # print(loss_function.dinputs.shape)\n",
    "#     activation_2.backward(loss_function.dinputs)\n",
    "#     # print(\"Softmax backward : \", activation_2.dinputs)\n",
    "\n",
    "#     dense_2.backward(activation_2.dinputs)\n",
    "#     activation_1.backward(dense_2.dinputs)\n",
    "#     dense_1.backward(activation_1.dinputs)\n",
    "\n",
    "#     optimizer.update_params(dense_1)\n",
    "#     # print(dense_1.weights)\n",
    "#     optimizer.update_params(dense_2)\n",
    "#     # print(dense_2.biases)"
   ]
  },
  {
   "cell_type": "code",
   "execution_count": null,
   "id": "9d6c25da-293c-4200-ac1d-5eb7df19986d",
   "metadata": {
    "execution": {
     "iopub.status.busy": "2023-05-23T17:55:06.311646Z",
     "iopub.status.idle": "2023-05-23T17:55:06.311811Z",
     "shell.execute_reply": "2023-05-23T17:55:06.311734Z",
     "shell.execute_reply.started": "2023-05-23T17:55:06.311726Z"
    },
    "scrolled": true,
    "tags": []
   },
   "outputs": [],
   "source": [
    "# dense_1 = Dense(2, 64)\n",
    "# activation_1 = ReLU_Activation()\n",
    "\n",
    "# dense_2 = Dense(64, 3)\n",
    "# activation_2 = Softmax_Activation_Categorical_Cross_Entropy_Loss()\n",
    "\n",
    "# sgd = SGD_Optimizer()\n",
    "# for epoch in range(20):\n",
    "#     dense_1.forward(X)\n",
    "#     activation_1.forward(dense_1.output)\n",
    "#     dense_2.forward(activation_1.output)\n",
    "\n",
    "#     loss = activation_2.forward(dense_2.output, y)\n",
    "\n",
    "#     # print(\"Softmax Forward : \", activation_2.output)\n",
    "\n",
    "#     predictions = np.argmax(activation_2.output, axis=1)\n",
    "#     if len(y.shape) == 2:\n",
    "#         y = np.argmax(y, axis=1)\n",
    "\n",
    "#     accuracy = np.mean(predictions == y)\n",
    "#     # if not epoch % 100:\n",
    "#     print(f\"Epochs: {epoch}, Acc: {accuracy}, Loss: {loss}\")\n",
    "\n",
    "#     activation_2.backward(activation_2.output, y)\n",
    "#     print(\"Softmax backward : \", activation_2.dinputs)\n",
    "\n",
    "#     dense_2.backward(activation_2.dinputs)\n",
    "#     activation_1.backward(dense_2.dinputs)\n",
    "#     dense_1.backward(activation_1.dinputs)\n",
    "\n",
    "#     sgd.update_params(dense_1)\n",
    "#     # print(dense_1.weights)\n",
    "#     sgd.update_params(dense_2)"
   ]
  },
  {
   "cell_type": "raw",
   "id": "2084a7e9-df0c-4847-9d30-ddc3f0e8dc59",
   "metadata": {
    "tags": []
   },
   "source": [
    "h = 0.02  # point in the mesh [x_min, m_max]x[y_min, y_max].\n",
    "\n",
    "# Plot the decision boundary. For that, we will assign a color to each\n",
    "x_min, x_max = X[:, 0].min() - 1, X[:, 0].max() + 1\n",
    "y_min, y_max = X[:, 1].min() - 1, X[:, 1].max() + 1\n",
    "xx, yy = np.meshgrid(np.arange(x_min, x_max, h), np.arange(y_min, y_max, h))\n",
    "\n",
    "# Obtain labels for each point in mesh using the model.\n",
    "# Z = model.predict(np.c_[xx.ravel(), yy.ravel()])\n",
    "dense_1.forward(np.c_[xx.ravel(), yy.ravel()])\n",
    "activation_1.forward(dense_1.output)\n",
    "dense_2.forward(activation_1.output)\n",
    "activation_2.activation.forward(dense_2.output)\n",
    "Z = np.argmax(activation_2.activation.output, axis=1)\n",
    "\n",
    "print(Z)\n",
    "x_min, x_max = X[:, 0].min() - 1, X[:, 0].max() + 1\n",
    "y_min, y_max = X[:, 1].min() - 1, X[:, 1].max() + 1\n",
    "xx, yy = np.meshgrid(np.arange(x_min, x_max, 0.1), np.arange(y_min, y_max, 0.1))\n",
    "dense_1.forward(np.c_[xx.ravel(), yy.ravel()])\n",
    "activation_1.forward(dense_1.output)\n",
    "dense_2.forward(activation_1.output)\n",
    "activation_2.activation.forward(dense_2.output)\n",
    "Z = np.argmax(activation_2.activation.output, axis=1).reshape(xx.shape)\n",
    "\n",
    "print(Z.shape)\n",
    "plt.contourf(xx, yy, Z, alpha=0.4)\n",
    "plt.scatter(X[:, 0], X[:, 1], c=y, alpha=0.8)"
   ]
  },
  {
   "cell_type": "raw",
   "id": "098c161b-82be-41cd-938a-367b0acf3452",
   "metadata": {
    "tags": []
   },
   "source": [
    "dense_1.forward(X)\n",
    "activation_1.forward(dense_1.output)\n",
    "dense_2.forward(activation_1.output)\n",
    "loss = activation_2.forward(dense_2.output, y)\n",
    "\n",
    "predictions = np.argmax(activation_2.output, axis=1)"
   ]
  },
  {
   "cell_type": "raw",
   "id": "93703f67-089c-4569-b9ad-08322cb2ef0f",
   "metadata": {
    "tags": []
   },
   "source": [
    "def plot_decision_boundaries(X, y, model_class, **model_params):\n",
    "    \"\"\"Function to plot the decision boundaries of a classification model.\n",
    "    This uses just the first two columns of the data for fitting\n",
    "    the model as we need to find the predicted value for every point in\n",
    "    scatter plot.\n",
    "\n",
    "    One possible improvement could be to use all columns fot fitting\n",
    "    and using the first 2 columns and median of all other columns\n",
    "    for predicting.\n",
    "\n",
    "    Adopted from:\n",
    "    http://scikit-learn.org/stable/auto_examples/ensemble/plot_voting_decision_regions.html\n",
    "    http://scikit-learn.org/stable/auto_examples/cluster/plot_kmeans_digits.html\n",
    "    \"\"\"\n",
    "    reduced_data = X[:, :2]\n",
    "    model = model_class(**model_params)\n",
    "    model.fit(reduced_data, y)\n",
    "\n",
    "    # Step size of the mesh. Decrease to increase the quality of the VQ.\n",
    "    h = 0.02  # point in the mesh [x_min, m_max]x[y_min, y_max].\n",
    "\n",
    "    # Plot the decision boundary. For that, we will assign a color to each\n",
    "    x_min, x_max = reduced_data[:, 0].min() - 1, reduced_data[:, 0].max() + 1\n",
    "    y_min, y_max = reduced_data[:, 1].min() - 1, reduced_data[:, 1].max() + 1\n",
    "    xx, yy = np.meshgrid(np.arange(x_min, x_max, h), np.arange(y_min, y_max, h))\n",
    "    print(xx, yy)\n",
    "    # Obtain labels for each point in mesh using the model.\n",
    "    Z = model.predict(np.c_[xx.ravel(), yy.ravel()])\n",
    "    print(np.c_[xx.ravel(), yy.ravel()])\n",
    "    print(type(Z))\n",
    "    x_min, x_max = X[:, 0].min() - 1, X[:, 0].max() + 1\n",
    "    y_min, y_max = X[:, 1].min() - 1, X[:, 1].max() + 1\n",
    "    xx, yy = np.meshgrid(np.arange(x_min, x_max, 0.1),\n",
    "                         np.arange(y_min, y_max, 0.1))\n",
    "\n",
    "    Z = model.predict(np.c_[xx.ravel(), yy.ravel()]).reshape(xx.shape)\n",
    "    print(Z.shape)\n",
    "    plt.contourf(xx, yy, Z, alpha=0.4)\n",
    "    plt.scatter(X[:, 0], X[:, 1], c=y, alpha=0.8)\n",
    "    return plt"
   ]
  },
  {
   "cell_type": "raw",
   "id": "049cd7b9-a05c-43d3-bb2b-ff03b0e2cd40",
   "metadata": {
    "tags": []
   },
   "source": [
    "import matplotlib.pyplot as plt\n",
    "from mlxtend.plotting import plot_decision_regions\n",
    "from sklearn import datasets\n",
    "from sklearn.svm import SVC\n",
    "\n",
    "# Loading some example data\n",
    "iris = datasets.load_iris()\n",
    "# X = iris.data[:, [0, 2]]\n",
    "# y = iris.target\n",
    "X, y = spiral_data(samples=100, classes=3)\n",
    "# Training a classifier\n",
    "svm = SVC(C=0.5, kernel=\"linear\")\n",
    "svm.fit(X, y)\n",
    "\n",
    "# Plotting decision regions\n",
    "plot_decision_boundaries(X, y, SVC, C=0.5, kernel=\"linear\")\n",
    "\n",
    "# Adding axes annotations\n",
    "plt.xlabel(\"sepal length [cm]\")\n",
    "plt.ylabel(\"petal length [cm]\")\n",
    "plt.title(\"SVM on Iris\")\n",
    "plt.show()"
   ]
  },
  {
   "cell_type": "code",
   "execution_count": null,
   "id": "6a90b047-b110-426f-97c4-d1450bcf1f11",
   "metadata": {},
   "outputs": [],
   "source": []
  }
 ],
 "metadata": {
  "autoscrollcelloutput": true,
  "kernelspec": {
   "display_name": "Python 3 (ipykernel)",
   "language": "python",
   "name": "python3"
  },
  "language_info": {
   "codemirror_mode": {
    "name": "ipython",
    "version": 3
   },
   "file_extension": ".py",
   "mimetype": "text/x-python",
   "name": "python",
   "nbconvert_exporter": "python",
   "pygments_lexer": "ipython3",
   "version": "3.9.15"
  }
 },
 "nbformat": 4,
 "nbformat_minor": 5
}
